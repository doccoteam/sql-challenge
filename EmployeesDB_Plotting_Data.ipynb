{
 "cells": [
  {
   "cell_type": "code",
   "execution_count": 29,
   "metadata": {},
   "outputs": [
    {
     "name": "stdout",
     "output_type": "stream",
     "text": [
      "Requirement already satisfied: psycopg2 in c:\\users\\eugen\\anaconda3\\lib\\site-packages (2.8.4)\n",
      "Note: you may need to restart the kernel to use updated packages.\n"
     ]
    }
   ],
   "source": [
    "%pip install psycopg2\n",
    "%matplotlib inline"
   ]
  },
  {
   "cell_type": "code",
   "execution_count": 30,
   "metadata": {},
   "outputs": [],
   "source": [
    "import pandas as pd\n",
    "\n",
    "from sqlalchemy import create_engine\n",
    "from config import DATABASE_URI\n",
    "\n",
    "from matplotlib import pyplot as plt\n",
    "import numpy as np\n",
    "import scipy.stats as stats\n",
    "import psycopg2"
   ]
  },
  {
   "cell_type": "code",
   "execution_count": 31,
   "metadata": {},
   "outputs": [],
   "source": [
    "engine = create_engine(DATABASE_URI)\n",
    "connection = engine.connect()"
   ]
  },
  {
   "cell_type": "code",
   "execution_count": 32,
   "metadata": {},
   "outputs": [],
   "source": [
    "employees_data = pd.read_sql(\"SELECT * FROM employees\", connection)\n",
    "salaries_data = pd.read_sql(\"SELECT * FROM salaries\", connection)\n",
    "titles_data = pd.read_sql(\"SELECT * FROM titles\", connection)"
   ]
  },
  {
   "cell_type": "code",
   "execution_count": 33,
   "metadata": {},
   "outputs": [
    {
     "data": {
      "text/html": [
       "<div>\n",
       "<style scoped>\n",
       "    .dataframe tbody tr th:only-of-type {\n",
       "        vertical-align: middle;\n",
       "    }\n",
       "\n",
       "    .dataframe tbody tr th {\n",
       "        vertical-align: top;\n",
       "    }\n",
       "\n",
       "    .dataframe thead th {\n",
       "        text-align: right;\n",
       "    }\n",
       "</style>\n",
       "<table border=\"1\" class=\"dataframe\">\n",
       "  <thead>\n",
       "    <tr style=\"text-align: right;\">\n",
       "      <th></th>\n",
       "      <th>id</th>\n",
       "      <th>emp_no</th>\n",
       "      <th>salary</th>\n",
       "      <th>from_date</th>\n",
       "      <th>to_date</th>\n",
       "    </tr>\n",
       "  </thead>\n",
       "  <tbody>\n",
       "    <tr>\n",
       "      <td>0</td>\n",
       "      <td>1</td>\n",
       "      <td>10001</td>\n",
       "      <td>60117</td>\n",
       "      <td>1986-06-26</td>\n",
       "      <td>1987-06-26</td>\n",
       "    </tr>\n",
       "    <tr>\n",
       "      <td>1</td>\n",
       "      <td>2</td>\n",
       "      <td>10002</td>\n",
       "      <td>65828</td>\n",
       "      <td>1996-08-03</td>\n",
       "      <td>1997-08-03</td>\n",
       "    </tr>\n",
       "    <tr>\n",
       "      <td>2</td>\n",
       "      <td>3</td>\n",
       "      <td>10003</td>\n",
       "      <td>40006</td>\n",
       "      <td>1995-12-03</td>\n",
       "      <td>1996-12-02</td>\n",
       "    </tr>\n",
       "    <tr>\n",
       "      <td>3</td>\n",
       "      <td>4</td>\n",
       "      <td>10004</td>\n",
       "      <td>40054</td>\n",
       "      <td>1986-12-01</td>\n",
       "      <td>1987-12-01</td>\n",
       "    </tr>\n",
       "    <tr>\n",
       "      <td>4</td>\n",
       "      <td>5</td>\n",
       "      <td>10005</td>\n",
       "      <td>78228</td>\n",
       "      <td>1989-09-12</td>\n",
       "      <td>1990-09-12</td>\n",
       "    </tr>\n",
       "    <tr>\n",
       "      <td>...</td>\n",
       "      <td>...</td>\n",
       "      <td>...</td>\n",
       "      <td>...</td>\n",
       "      <td>...</td>\n",
       "      <td>...</td>\n",
       "    </tr>\n",
       "    <tr>\n",
       "      <td>300019</td>\n",
       "      <td>300020</td>\n",
       "      <td>499995</td>\n",
       "      <td>40000</td>\n",
       "      <td>1997-06-02</td>\n",
       "      <td>1998-06-02</td>\n",
       "    </tr>\n",
       "    <tr>\n",
       "      <td>300020</td>\n",
       "      <td>300021</td>\n",
       "      <td>499996</td>\n",
       "      <td>58058</td>\n",
       "      <td>1996-05-13</td>\n",
       "      <td>1997-05-13</td>\n",
       "    </tr>\n",
       "    <tr>\n",
       "      <td>300021</td>\n",
       "      <td>300022</td>\n",
       "      <td>499997</td>\n",
       "      <td>49597</td>\n",
       "      <td>1987-08-30</td>\n",
       "      <td>1988-08-29</td>\n",
       "    </tr>\n",
       "    <tr>\n",
       "      <td>300022</td>\n",
       "      <td>300023</td>\n",
       "      <td>499998</td>\n",
       "      <td>40000</td>\n",
       "      <td>1993-12-27</td>\n",
       "      <td>1994-12-27</td>\n",
       "    </tr>\n",
       "    <tr>\n",
       "      <td>300023</td>\n",
       "      <td>300024</td>\n",
       "      <td>499999</td>\n",
       "      <td>63707</td>\n",
       "      <td>1997-11-30</td>\n",
       "      <td>1998-11-30</td>\n",
       "    </tr>\n",
       "  </tbody>\n",
       "</table>\n",
       "<p>300024 rows × 5 columns</p>\n",
       "</div>"
      ],
      "text/plain": [
       "            id  emp_no  salary   from_date     to_date\n",
       "0            1   10001   60117  1986-06-26  1987-06-26\n",
       "1            2   10002   65828  1996-08-03  1997-08-03\n",
       "2            3   10003   40006  1995-12-03  1996-12-02\n",
       "3            4   10004   40054  1986-12-01  1987-12-01\n",
       "4            5   10005   78228  1989-09-12  1990-09-12\n",
       "...        ...     ...     ...         ...         ...\n",
       "300019  300020  499995   40000  1997-06-02  1998-06-02\n",
       "300020  300021  499996   58058  1996-05-13  1997-05-13\n",
       "300021  300022  499997   49597  1987-08-30  1988-08-29\n",
       "300022  300023  499998   40000  1993-12-27  1994-12-27\n",
       "300023  300024  499999   63707  1997-11-30  1998-11-30\n",
       "\n",
       "[300024 rows x 5 columns]"
      ]
     },
     "execution_count": 33,
     "metadata": {},
     "output_type": "execute_result"
    }
   ],
   "source": [
    "salaries_data"
   ]
  },
  {
   "cell_type": "code",
   "execution_count": 34,
   "metadata": {},
   "outputs": [
    {
     "data": {
      "image/png": "[encoded data removed]",
      "text/plain": [
       "<Figure size 432x288 with 1 Axes>"
      ]
     },
     "metadata": {
      "needs_background": "light"
     },
     "output_type": "display_data"
    }
   ],
   "source": [
    "plt.hist(salaries_data['salary'], 20, color='green', density=False, label=\"Salary ($)\")\n",
    "plt.axvline(salaries_data['salary'].mean(), color='purple', linestyle='dashed', linewidth=1, label=\"Salary Mean\")\n",
    "plt.xlabel(\"Salary\")\n",
    "plt.ylabel(\"Number of Employees\")\n",
    "plt.legend() \n",
    "plt.title(\"The most common salary ranges for employees\")\n",
    "plt.savefig(\"salary_ranges.png\")"
   ]
  },
  {
   "cell_type": "code",
   "execution_count": 35,
   "metadata": {},
   "outputs": [
    {
     "data": {
      "image/png": "[encoded data removed]",
      "text/plain": [
       "<Figure size 432x288 with 1 Axes>"
      ]
     },
     "metadata": {
      "needs_background": "light"
     },
     "output_type": "display_data"
    },
    {
     "data": {
      "text/plain": [
       "<Figure size 432x288 with 0 Axes>"
      ]
     },
     "metadata": {},
     "output_type": "display_data"
    }
   ],
   "source": [
    "# Query\n",
    "titles_salaries_query = pd.read_sql(\"SELECT * FROM Salaries INNER JOIN Titles ON Salaries.emp_no = Titles.emp_no\", connection)\n",
    "\n",
    "# Salaries Average \n",
    "avg_salaries = titles_salaries_query.groupby([\"title\"]).mean()[\"salary\"]\n",
    "\n",
    "# Barchart\n",
    "indexes = avg_salaries.index\n",
    "avg_salary = avg_salaries.values\n",
    "\n",
    "x_axis = np.arange(len(indexes))\n",
    "tick_locations = [value for value in x_axis]\n",
    "plt.xticks(tick_locations, indexes, rotation=90)\n",
    "plt.ylim(0, max(avg_salary)+10000)\n",
    "plt.title(\"Average Salary By Title\")\n",
    "plt.xlabel(\"Employee Title\")\n",
    "plt.ylabel(\"Average Salary ($)\")\n",
    "\n",
    "plt.grid(axis=\"y\")\n",
    "barchart = plt.bar(x_axis, avg_salary, color=\"red\", alpha=0.5, align=\"center\")\n",
    "\n",
    "for i in barchart:\n",
    "    yvalue = i.get_height()\n",
    "    plt.text(i.get_x(), yvalue + 1000, \"${:,.2f}K\".format(yvalue/1000))\n",
    "    \n",
    "plt.show()\n",
    "plt.savefig(\"average_salary_by_title.png\")"
   ]
  },
  {
   "cell_type": "code",
   "execution_count": null,
   "metadata": {},
   "outputs": [],
   "source": []
  }
 ],
 "metadata": {
  "kernelspec": {
   "display_name": "Python 3.7.4 64-bit ('eugen': virtualenv)",
   "language": "python",
   "name": "python37464biteugenvirtualenve72cfa3fb3714978bca1637a00c7f464"
  },
  "language_info": {
   "codemirror_mode": {
    "name": "ipython",
    "version": 3
   },
   "file_extension": ".py",
   "mimetype": "text/x-python",
   "name": "python",
   "nbconvert_exporter": "python",
   "pygments_lexer": "ipython3",
   "version": "3.7.4"
  }
 },
 "nbformat": 4,
 "nbformat_minor": 2
}
